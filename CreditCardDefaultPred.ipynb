{
 "cells": [
  {
   "cell_type": "markdown",
   "metadata": {},
   "source": [
    "Code to predict probability of credit card defaulting based on UCL data\n",
    "\n",
    "Making necessary imports"
   ]
  },
  {
   "cell_type": "code",
   "execution_count": 1,
   "metadata": {},
   "outputs": [
    {
     "name": "stderr",
     "output_type": "stream",
     "text": [
      "f:\\python\\lib\\site-packages\\sklearn\\cross_validation.py:41: DeprecationWarning: This module was deprecated in version 0.18 in favor of the model_selection module into which all the refactored classes and functions are moved. Also note that the interface of the new CV iterators are different from that of this module. This module will be removed in 0.20.\n",
      "  \"This module will be removed in 0.20.\", DeprecationWarning)\n"
     ]
    }
   ],
   "source": [
    "from sklearn import cross_validation\n",
    "from sklearn.linear_model import LogisticRegression\n",
    "from sklearn.model_selection import train_test_split\n",
    "import numpy as np\n",
    "import pandas as pd"
   ]
  },
  {
   "cell_type": "markdown",
   "metadata": {},
   "source": [
    "Reading excel file and converting to CSV"
   ]
  },
  {
   "cell_type": "code",
   "execution_count": 2,
   "metadata": {},
   "outputs": [],
   "source": [
    "df = pd.read_excel(\"./Credit_Card_Data.xlsx\")\n",
    "df.to_csv(\"./UCL_Credit_Card_data.csv\", sep=\",\",header = ['ID','LIMIT_BAL','SEX','EDUCATION','MARRIAGE','AGE','PAYMENT_STATUS'])"
   ]
  },
  {
   "cell_type": "code",
   "execution_count": 3,
   "metadata": {},
   "outputs": [
    {
     "name": "stdout",
     "output_type": "stream",
     "text": [
      "<bound method NDFrame.head of           ID  LIMIT_BAL  SEX  EDUCATION  MARRIAGE  AGE  \\\n",
      "0          1      20000    2          2         1   24   \n",
      "1          2     120000    2          2         2   26   \n",
      "2          3      90000    2          2         2   34   \n",
      "3          4      50000    2          2         1   37   \n",
      "4          5      50000    1          2         1   57   \n",
      "5          6      50000    1          1         2   37   \n",
      "6          7     500000    1          1         2   29   \n",
      "7          8     100000    2          2         2   23   \n",
      "8          9     140000    2          3         1   28   \n",
      "9         10      20000    1          3         2   35   \n",
      "10        11     200000    2          3         2   34   \n",
      "11        12     260000    2          1         2   51   \n",
      "12        13     630000    2          2         2   41   \n",
      "13        14      70000    1          2         2   30   \n",
      "14        15     250000    1          1         2   29   \n",
      "15        16      50000    2          3         3   23   \n",
      "16        17      20000    1          1         2   24   \n",
      "17        18     320000    1          1         1   49   \n",
      "18        19     360000    2          1         1   49   \n",
      "19        20     180000    2          1         2   29   \n",
      "20        21     130000    2          3         2   39   \n",
      "21        22     120000    2          2         1   39   \n",
      "22        23      70000    2          2         2   26   \n",
      "23        24     450000    2          1         1   40   \n",
      "24        25      90000    1          1         2   23   \n",
      "25        26      50000    1          3         2   23   \n",
      "26        27      60000    1          1         2   27   \n",
      "27        28      50000    2          3         2   30   \n",
      "28        29      50000    2          3         1   47   \n",
      "29        30      50000    1          1         2   26   \n",
      "...      ...        ...  ...        ...       ...  ...   \n",
      "29970  29971     360000    1          1         1   34   \n",
      "29971  29972      80000    1          3         1   36   \n",
      "29972  29973     190000    1          1         1   37   \n",
      "29973  29974     230000    1          2         1   35   \n",
      "29974  29975      50000    1          2         1   37   \n",
      "29975  29976     220000    1          2         1   41   \n",
      "29976  29977      40000    1          2         2   47   \n",
      "29977  29978     420000    1          1         2   34   \n",
      "29978  29979     310000    1          2         1   39   \n",
      "29979  29980     180000    1          1         1   32   \n",
      "29980  29981      50000    1          3         2   42   \n",
      "29981  29982      50000    1          2         1   44   \n",
      "29982  29983      90000    1          2         1   36   \n",
      "29983  29984      20000    1          2         1   44   \n",
      "29984  29985      30000    1          2         2   38   \n",
      "29985  29986     240000    1          1         2   30   \n",
      "29986  29987     360000    1          1         2   35   \n",
      "29987  29988     130000    1          1         2   34   \n",
      "29988  29989     250000    1          1         1   34   \n",
      "29989  29990     150000    1          1         2   35   \n",
      "29990  29991     140000    1          2         1   41   \n",
      "29991  29992     210000    1          2         1   34   \n",
      "29992  29993      10000    1          3         1   43   \n",
      "29993  29994     100000    1          1         2   38   \n",
      "29994  29995      80000    1          2         2   34   \n",
      "29995  29996     220000    1          3         1   39   \n",
      "29996  29997     150000    1          3         2   43   \n",
      "29997  29998      30000    1          2         2   37   \n",
      "29998  29999      80000    1          3         1   41   \n",
      "29999  30000      50000    1          2         1   46   \n",
      "\n",
      "       default.payment.next.month  \n",
      "0                               1  \n",
      "1                               1  \n",
      "2                               0  \n",
      "3                               0  \n",
      "4                               0  \n",
      "5                               0  \n",
      "6                               0  \n",
      "7                               0  \n",
      "8                               0  \n",
      "9                               0  \n",
      "10                              0  \n",
      "11                              0  \n",
      "12                              0  \n",
      "13                              1  \n",
      "14                              0  \n",
      "15                              0  \n",
      "16                              1  \n",
      "17                              0  \n",
      "18                              0  \n",
      "19                              0  \n",
      "20                              0  \n",
      "21                              1  \n",
      "22                              1  \n",
      "23                              1  \n",
      "24                              0  \n",
      "25                              0  \n",
      "26                              1  \n",
      "27                              0  \n",
      "28                              0  \n",
      "29                              0  \n",
      "...                           ...  \n",
      "29970                           0  \n",
      "29971                           0  \n",
      "29972                           0  \n",
      "29973                           1  \n",
      "29974                           1  \n",
      "29975                           0  \n",
      "29976                           1  \n",
      "29977                           0  \n",
      "29978                           0  \n",
      "29979                           0  \n",
      "29980                           0  \n",
      "29981                           0  \n",
      "29982                           1  \n",
      "29983                           0  \n",
      "29984                           0  \n",
      "29985                           0  \n",
      "29986                           0  \n",
      "29987                           0  \n",
      "29988                           0  \n",
      "29989                           0  \n",
      "29990                           0  \n",
      "29991                           1  \n",
      "29992                           0  \n",
      "29993                           0  \n",
      "29994                           1  \n",
      "29995                           0  \n",
      "29996                           0  \n",
      "29997                           1  \n",
      "29998                           1  \n",
      "29999                           1  \n",
      "\n",
      "[30000 rows x 7 columns]>\n"
     ]
    }
   ],
   "source": [
    "print(df.head)"
   ]
  },
  {
   "cell_type": "markdown",
   "metadata": {},
   "source": [
    "Splitting test and train data"
   ]
  },
  {
   "cell_type": "code",
   "execution_count": 4,
   "metadata": {},
   "outputs": [],
   "source": [
    "\n",
    "df['split'] = np.random.randn(df.shape[0], 1)\n",
    "\n",
    "msk = np.random.rand(len(df)) <= 0.7\n",
    "\n",
    "train = df[msk]\n",
    "test = df[~msk]\n",
    "\n",
    "x_train = train.iloc[:,1:6]\n",
    "y_train = train.iloc[:,6:7]\n",
    "x_test = train.iloc[:,1:6]\n",
    "y_test = train.iloc[:,6:7]"
   ]
  },
  {
   "cell_type": "markdown",
   "metadata": {},
   "source": [
    "Creating our model"
   ]
  },
  {
   "cell_type": "code",
   "execution_count": 5,
   "metadata": {},
   "outputs": [
    {
     "data": {
      "text/plain": [
       "LogisticRegression(C=1.0, class_weight=None, dual=False, fit_intercept=True,\n",
       "          intercept_scaling=1, max_iter=100, multi_class='ovr', n_jobs=1,\n",
       "          penalty='l2', random_state=None, solver='liblinear', tol=0.0001,\n",
       "          verbose=0, warm_start=False)"
      ]
     },
     "execution_count": 5,
     "metadata": {},
     "output_type": "execute_result"
    }
   ],
   "source": [
    "clf = LogisticRegression()\n",
    "clf.fit(x_train, y_train.values.ravel())"
   ]
  },
  {
   "cell_type": "markdown",
   "metadata": {},
   "source": [
    "Accuracy computation"
   ]
  },
  {
   "cell_type": "code",
   "execution_count": 6,
   "metadata": {},
   "outputs": [
    {
     "name": "stdout",
     "output_type": "stream",
     "text": [
      "0.7762674679257882\n"
     ]
    }
   ],
   "source": [
    "accuracy = clf.score(x_test, y_test)\n",
    "print(accuracy)"
   ]
  },
  {
   "cell_type": "code",
   "execution_count": null,
   "metadata": {},
   "outputs": [],
   "source": []
  }
 ],
 "metadata": {
  "kernelspec": {
   "display_name": "Python 3",
   "language": "python",
   "name": "python3"
  },
  "language_info": {
   "codemirror_mode": {
    "name": "ipython",
    "version": 3
   },
   "file_extension": ".py",
   "mimetype": "text/x-python",
   "name": "python",
   "nbconvert_exporter": "python",
   "pygments_lexer": "ipython3",
   "version": "3.6.3"
  }
 },
 "nbformat": 4,
 "nbformat_minor": 4
}
