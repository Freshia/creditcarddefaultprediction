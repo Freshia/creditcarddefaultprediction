{
 "cells": [
  {
   "cell_type": "markdown",
   "metadata": {},
   "source": [
    "## **Code to predict probability of credit card defaulting based on UCL data**\n",
    "\n",
    "Making necessary imports"
   ]
  },
  {
   "cell_type": "code",
   "execution_count": 16,
   "metadata": {},
   "outputs": [],
   "source": [
    "import matplotlib.pyplot as plt\n",
    "import seaborn as sns\n",
    "from scipy import stats\n",
    "sns.set(\"notebook\")"
   ]
  },
  {
   "cell_type": "code",
   "execution_count": 4,
   "metadata": {},
   "outputs": [
    {
     "name": "stderr",
     "output_type": "stream",
     "text": [
      "f:\\python\\lib\\site-packages\\sklearn\\cross_validation.py:41: DeprecationWarning: This module was deprecated in version 0.18 in favor of the model_selection module into which all the refactored classes and functions are moved. Also note that the interface of the new CV iterators are different from that of this module. This module will be removed in 0.20.\n",
      "  \"This module will be removed in 0.20.\", DeprecationWarning)\n"
     ]
    }
   ],
   "source": [
    "from sklearn import cross_validation\n",
    "from sklearn.linear_model import LogisticRegression\n",
    "from sklearn.model_selection import train_test_split\n",
    "import numpy as np\n",
    "import pandas as pd"
   ]
  },
  {
   "cell_type": "markdown",
   "metadata": {},
   "source": [
    "Reading excel file and converting to CSV"
   ]
  },
  {
   "cell_type": "code",
   "execution_count": 6,
   "metadata": {},
   "outputs": [],
   "source": [
    "df = pd.read_excel(\"./Credit_Card_Data.xlsx\")\n",
    "df.to_csv(\"./UCL_Credit_Card_data.csv\", sep=\",\",header = ['ID','LIMIT_BAL','SEX','EDUCATION','MARRIAGE','AGE','PAYMENT_STATUS'])"
   ]
  },
  {
   "cell_type": "markdown",
   "metadata": {},
   "source": [
    " ### ***Data Exploration***"
   ]
  },
  {
   "cell_type": "code",
   "execution_count": 7,
   "metadata": {},
   "outputs": [
    {
     "name": "stdout",
     "output_type": "stream",
     "text": [
      "<bound method NDFrame.head of           ID  LIMIT_BAL  SEX  EDUCATION  MARRIAGE  AGE  \\\n",
      "0          1      20000    2          2         1   24   \n",
      "1          2     120000    2          2         2   26   \n",
      "2          3      90000    2          2         2   34   \n",
      "3          4      50000    2          2         1   37   \n",
      "4          5      50000    1          2         1   57   \n",
      "5          6      50000    1          1         2   37   \n",
      "6          7     500000    1          1         2   29   \n",
      "7          8     100000    2          2         2   23   \n",
      "8          9     140000    2          3         1   28   \n",
      "9         10      20000    1          3         2   35   \n",
      "10        11     200000    2          3         2   34   \n",
      "11        12     260000    2          1         2   51   \n",
      "12        13     630000    2          2         2   41   \n",
      "13        14      70000    1          2         2   30   \n",
      "14        15     250000    1          1         2   29   \n",
      "15        16      50000    2          3         3   23   \n",
      "16        17      20000    1          1         2   24   \n",
      "17        18     320000    1          1         1   49   \n",
      "18        19     360000    2          1         1   49   \n",
      "19        20     180000    2          1         2   29   \n",
      "20        21     130000    2          3         2   39   \n",
      "21        22     120000    2          2         1   39   \n",
      "22        23      70000    2          2         2   26   \n",
      "23        24     450000    2          1         1   40   \n",
      "24        25      90000    1          1         2   23   \n",
      "25        26      50000    1          3         2   23   \n",
      "26        27      60000    1          1         2   27   \n",
      "27        28      50000    2          3         2   30   \n",
      "28        29      50000    2          3         1   47   \n",
      "29        30      50000    1          1         2   26   \n",
      "...      ...        ...  ...        ...       ...  ...   \n",
      "29970  29971     360000    1          1         1   34   \n",
      "29971  29972      80000    1          3         1   36   \n",
      "29972  29973     190000    1          1         1   37   \n",
      "29973  29974     230000    1          2         1   35   \n",
      "29974  29975      50000    1          2         1   37   \n",
      "29975  29976     220000    1          2         1   41   \n",
      "29976  29977      40000    1          2         2   47   \n",
      "29977  29978     420000    1          1         2   34   \n",
      "29978  29979     310000    1          2         1   39   \n",
      "29979  29980     180000    1          1         1   32   \n",
      "29980  29981      50000    1          3         2   42   \n",
      "29981  29982      50000    1          2         1   44   \n",
      "29982  29983      90000    1          2         1   36   \n",
      "29983  29984      20000    1          2         1   44   \n",
      "29984  29985      30000    1          2         2   38   \n",
      "29985  29986     240000    1          1         2   30   \n",
      "29986  29987     360000    1          1         2   35   \n",
      "29987  29988     130000    1          1         2   34   \n",
      "29988  29989     250000    1          1         1   34   \n",
      "29989  29990     150000    1          1         2   35   \n",
      "29990  29991     140000    1          2         1   41   \n",
      "29991  29992     210000    1          2         1   34   \n",
      "29992  29993      10000    1          3         1   43   \n",
      "29993  29994     100000    1          1         2   38   \n",
      "29994  29995      80000    1          2         2   34   \n",
      "29995  29996     220000    1          3         1   39   \n",
      "29996  29997     150000    1          3         2   43   \n",
      "29997  29998      30000    1          2         2   37   \n",
      "29998  29999      80000    1          3         1   41   \n",
      "29999  30000      50000    1          2         1   46   \n",
      "\n",
      "       default.payment.next.month  \n",
      "0                               1  \n",
      "1                               1  \n",
      "2                               0  \n",
      "3                               0  \n",
      "4                               0  \n",
      "5                               0  \n",
      "6                               0  \n",
      "7                               0  \n",
      "8                               0  \n",
      "9                               0  \n",
      "10                              0  \n",
      "11                              0  \n",
      "12                              0  \n",
      "13                              1  \n",
      "14                              0  \n",
      "15                              0  \n",
      "16                              1  \n",
      "17                              0  \n",
      "18                              0  \n",
      "19                              0  \n",
      "20                              0  \n",
      "21                              1  \n",
      "22                              1  \n",
      "23                              1  \n",
      "24                              0  \n",
      "25                              0  \n",
      "26                              1  \n",
      "27                              0  \n",
      "28                              0  \n",
      "29                              0  \n",
      "...                           ...  \n",
      "29970                           0  \n",
      "29971                           0  \n",
      "29972                           0  \n",
      "29973                           1  \n",
      "29974                           1  \n",
      "29975                           0  \n",
      "29976                           1  \n",
      "29977                           0  \n",
      "29978                           0  \n",
      "29979                           0  \n",
      "29980                           0  \n",
      "29981                           0  \n",
      "29982                           1  \n",
      "29983                           0  \n",
      "29984                           0  \n",
      "29985                           0  \n",
      "29986                           0  \n",
      "29987                           0  \n",
      "29988                           0  \n",
      "29989                           0  \n",
      "29990                           0  \n",
      "29991                           1  \n",
      "29992                           0  \n",
      "29993                           0  \n",
      "29994                           1  \n",
      "29995                           0  \n",
      "29996                           0  \n",
      "29997                           1  \n",
      "29998                           1  \n",
      "29999                           1  \n",
      "\n",
      "[30000 rows x 7 columns]>\n"
     ]
    }
   ],
   "source": [
    "print(df.head)"
   ]
  },
  {
   "cell_type": "code",
   "execution_count": 8,
   "metadata": {},
   "outputs": [
    {
     "data": {
      "text/plain": [
       "ID                            int64\n",
       "LIMIT_BAL                     int64\n",
       "SEX                           int64\n",
       "EDUCATION                     int64\n",
       "MARRIAGE                      int64\n",
       "AGE                           int64\n",
       "default.payment.next.month    int64\n",
       "dtype: object"
      ]
     },
     "execution_count": 8,
     "metadata": {},
     "output_type": "execute_result"
    }
   ],
   "source": [
    "#checking the data types\n",
    "df.dtypes"
   ]
  },
  {
   "cell_type": "code",
   "execution_count": 10,
   "metadata": {},
   "outputs": [
    {
     "name": "stdout",
     "output_type": "stream",
     "text": [
      "ID                            0.0\n",
      "LIMIT_BAL                     0.0\n",
      "SEX                           0.0\n",
      "EDUCATION                     0.0\n",
      "MARRIAGE                      0.0\n",
      "AGE                           0.0\n",
      "default.payment.next.month    0.0\n",
      "dtype: float64\n"
     ]
    }
   ],
   "source": [
    "#checking for null values\n",
    "print(df.isna().sum()/df.shape[0])"
   ]
  },
  {
   "cell_type": "markdown",
   "metadata": {},
   "source": [
    "Data contains no null values. It appears the dataset was already cleaned"
   ]
  },
  {
   "cell_type": "markdown",
   "metadata": {},
   "source": [
    "### Getting measures of central tendency and other statistics"
   ]
  },
  {
   "cell_type": "code",
   "execution_count": 11,
   "metadata": {},
   "outputs": [
    {
     "name": "stdout",
     "output_type": "stream",
     "text": [
      "                 ID       LIMIT_BAL           SEX     EDUCATION      MARRIAGE  \\\n",
      "count  30000.000000    30000.000000  30000.000000  30000.000000  30000.000000   \n",
      "mean   15000.500000   167484.322667      1.603733      1.853133      1.551867   \n",
      "std     8660.398374   129747.661567      0.489129      0.790349      0.521970   \n",
      "min        1.000000    10000.000000      1.000000      0.000000      0.000000   \n",
      "25%     7500.750000    50000.000000      1.000000      1.000000      1.000000   \n",
      "50%    15000.500000   140000.000000      2.000000      2.000000      2.000000   \n",
      "75%    22500.250000   240000.000000      2.000000      2.000000      2.000000   \n",
      "max    30000.000000  1000000.000000      2.000000      6.000000      3.000000   \n",
      "\n",
      "                AGE  default.payment.next.month  \n",
      "count  30000.000000                30000.000000  \n",
      "mean      35.485500                    0.221200  \n",
      "std        9.217904                    0.415062  \n",
      "min       21.000000                    0.000000  \n",
      "25%       28.000000                    0.000000  \n",
      "50%       34.000000                    0.000000  \n",
      "75%       41.000000                    0.000000  \n",
      "max       79.000000                    1.000000  \n"
     ]
    }
   ],
   "source": [
    "print(df.describe(include='all'))"
   ]
  },
  {
   "cell_type": "code",
   "execution_count": 13,
   "metadata": {},
   "outputs": [
    {
     "data": {
      "text/plain": [
       "DescribeResult(nobs=30000, minmax=(array([    1, 10000,     1,     0,     0,    21,     0], dtype=int64), array([  30000, 1000000,       2,       6,       3,      79,       1],\n",
       "      dtype=int64)), mean=array([1.50005000e+04, 1.67484323e+05, 1.60373333e+00, 1.85313333e+00,\n",
       "       1.55186667e+00, 3.54855000e+01, 2.21200000e-01]), variance=array([7.50025000e+07, 1.68344557e+10, 2.39247370e-01, 6.24651004e-01,\n",
       "       2.72452264e-01, 8.49697554e+01, 1.72276303e-01]), skewness=array([-2.56600120e-17,  9.92817316e-01, -4.24162218e-01,  9.70923499e-01,\n",
       "       -1.87407439e-02,  7.32209256e-01,  1.34343677e+00]), kurtosis=array([-1.2       ,  0.53597353, -1.82008641,  2.07807519, -1.36334053,\n",
       "        0.044096  , -0.19517763]))"
      ]
     },
     "execution_count": 13,
     "metadata": {},
     "output_type": "execute_result"
    }
   ],
   "source": [
    "#Checking for skew and Kurtosis\n",
    "stats.describe(df)"
   ]
  },
  {
   "cell_type": "code",
   "execution_count": 15,
   "metadata": {},
   "outputs": [
    {
     "data": {
      "text/html": [
       "<div>\n",
       "<style scoped>\n",
       "    .dataframe tbody tr th:only-of-type {\n",
       "        vertical-align: middle;\n",
       "    }\n",
       "\n",
       "    .dataframe tbody tr th {\n",
       "        vertical-align: top;\n",
       "    }\n",
       "\n",
       "    .dataframe thead th {\n",
       "        text-align: right;\n",
       "    }\n",
       "</style>\n",
       "<table border=\"1\" class=\"dataframe\">\n",
       "  <thead>\n",
       "    <tr style=\"text-align: right;\">\n",
       "      <th></th>\n",
       "      <th>ID</th>\n",
       "      <th>LIMIT_BAL</th>\n",
       "      <th>SEX</th>\n",
       "      <th>EDUCATION</th>\n",
       "      <th>MARRIAGE</th>\n",
       "      <th>AGE</th>\n",
       "      <th>default.payment.next.month</th>\n",
       "    </tr>\n",
       "  </thead>\n",
       "  <tbody>\n",
       "    <tr>\n",
       "      <th>ID</th>\n",
       "      <td>1.000000</td>\n",
       "      <td>0.026179</td>\n",
       "      <td>0.018497</td>\n",
       "      <td>0.039177</td>\n",
       "      <td>-0.029079</td>\n",
       "      <td>0.018678</td>\n",
       "      <td>-0.013952</td>\n",
       "    </tr>\n",
       "    <tr>\n",
       "      <th>LIMIT_BAL</th>\n",
       "      <td>0.026179</td>\n",
       "      <td>1.000000</td>\n",
       "      <td>0.024755</td>\n",
       "      <td>-0.219161</td>\n",
       "      <td>-0.108139</td>\n",
       "      <td>0.144713</td>\n",
       "      <td>-0.153520</td>\n",
       "    </tr>\n",
       "    <tr>\n",
       "      <th>SEX</th>\n",
       "      <td>0.018497</td>\n",
       "      <td>0.024755</td>\n",
       "      <td>1.000000</td>\n",
       "      <td>0.014232</td>\n",
       "      <td>-0.031389</td>\n",
       "      <td>-0.090874</td>\n",
       "      <td>-0.039961</td>\n",
       "    </tr>\n",
       "    <tr>\n",
       "      <th>EDUCATION</th>\n",
       "      <td>0.039177</td>\n",
       "      <td>-0.219161</td>\n",
       "      <td>0.014232</td>\n",
       "      <td>1.000000</td>\n",
       "      <td>-0.143464</td>\n",
       "      <td>0.175061</td>\n",
       "      <td>0.028006</td>\n",
       "    </tr>\n",
       "    <tr>\n",
       "      <th>MARRIAGE</th>\n",
       "      <td>-0.029079</td>\n",
       "      <td>-0.108139</td>\n",
       "      <td>-0.031389</td>\n",
       "      <td>-0.143464</td>\n",
       "      <td>1.000000</td>\n",
       "      <td>-0.414170</td>\n",
       "      <td>-0.024339</td>\n",
       "    </tr>\n",
       "    <tr>\n",
       "      <th>AGE</th>\n",
       "      <td>0.018678</td>\n",
       "      <td>0.144713</td>\n",
       "      <td>-0.090874</td>\n",
       "      <td>0.175061</td>\n",
       "      <td>-0.414170</td>\n",
       "      <td>1.000000</td>\n",
       "      <td>0.013890</td>\n",
       "    </tr>\n",
       "    <tr>\n",
       "      <th>default.payment.next.month</th>\n",
       "      <td>-0.013952</td>\n",
       "      <td>-0.153520</td>\n",
       "      <td>-0.039961</td>\n",
       "      <td>0.028006</td>\n",
       "      <td>-0.024339</td>\n",
       "      <td>0.013890</td>\n",
       "      <td>1.000000</td>\n",
       "    </tr>\n",
       "  </tbody>\n",
       "</table>\n",
       "</div>"
      ],
      "text/plain": [
       "                                  ID  LIMIT_BAL       SEX  EDUCATION  \\\n",
       "ID                          1.000000   0.026179  0.018497   0.039177   \n",
       "LIMIT_BAL                   0.026179   1.000000  0.024755  -0.219161   \n",
       "SEX                         0.018497   0.024755  1.000000   0.014232   \n",
       "EDUCATION                   0.039177  -0.219161  0.014232   1.000000   \n",
       "MARRIAGE                   -0.029079  -0.108139 -0.031389  -0.143464   \n",
       "AGE                         0.018678   0.144713 -0.090874   0.175061   \n",
       "default.payment.next.month -0.013952  -0.153520 -0.039961   0.028006   \n",
       "\n",
       "                            MARRIAGE       AGE  default.payment.next.month  \n",
       "ID                         -0.029079  0.018678                   -0.013952  \n",
       "LIMIT_BAL                  -0.108139  0.144713                   -0.153520  \n",
       "SEX                        -0.031389 -0.090874                   -0.039961  \n",
       "EDUCATION                  -0.143464  0.175061                    0.028006  \n",
       "MARRIAGE                    1.000000 -0.414170                   -0.024339  \n",
       "AGE                        -0.414170  1.000000                    0.013890  \n",
       "default.payment.next.month -0.024339  0.013890                    1.000000  "
      ]
     },
     "execution_count": 15,
     "metadata": {},
     "output_type": "execute_result"
    }
   ],
   "source": [
    "#finding pearson correlation between parameters\n",
    "pearson = df.corr(method='pearson')\n",
    "pearson"
   ]
  },
  {
   "cell_type": "code",
   "execution_count": 20,
   "metadata": {},
   "outputs": [
    {
     "data": {
      "text/plain": [
       "<matplotlib.axes._subplots.AxesSubplot at 0x2866c912f28>"
      ]
     },
     "execution_count": 20,
     "metadata": {},
     "output_type": "execute_result"
    },
    {
     "data": {
      "image/png": "[encoded data removed]",
      "text/plain": [
       "<Figure size 432x288 with 2 Axes>"
      ]
     },
     "metadata": {},
     "output_type": "display_data"
    }
   ],
   "source": [
    "#Heatmap to visually display the correlation\n",
    "\n",
    "sns.heatmap(pearson,xticklabels=pearson.columns,yticklabels=pearson.columns,cmap='RdBu_r',annot=True,linewidth=0.5)"
   ]
  },
  {
   "cell_type": "markdown",
   "metadata": {},
   "source": [
    "Strong correlation is observed between age and marriage. Relatively strong correlation between education and Balance Limit.\n",
    "The parameter seen to have the most correlation with payment defaulting is Balance Limit"
   ]
  },
  {
   "cell_type": "markdown",
   "metadata": {},
   "source": [
    "### Creating the predictive model"
   ]
  },
  {
   "cell_type": "markdown",
   "metadata": {},
   "source": [
    "Splitting test and train data"
   ]
  },
  {
   "cell_type": "code",
   "execution_count": 4,
   "metadata": {},
   "outputs": [],
   "source": [
    "\n",
    "df['split'] = np.random.randn(df.shape[0], 1)\n",
    "\n",
    "msk = np.random.rand(len(df)) <= 0.7\n",
    "\n",
    "train = df[msk]\n",
    "test = df[~msk]\n",
    "\n",
    "x_train = train.iloc[:,1:6]\n",
    "y_train = train.iloc[:,6:7]\n",
    "x_test = train.iloc[:,1:6]\n",
    "y_test = train.iloc[:,6:7]"
   ]
  },
  {
   "cell_type": "markdown",
   "metadata": {},
   "source": [
    "Creating our model"
   ]
  },
  {
   "cell_type": "code",
   "execution_count": 5,
   "metadata": {},
   "outputs": [
    {
     "data": {
      "text/plain": [
       "LogisticRegression(C=1.0, class_weight=None, dual=False, fit_intercept=True,\n",
       "          intercept_scaling=1, max_iter=100, multi_class='ovr', n_jobs=1,\n",
       "          penalty='l2', random_state=None, solver='liblinear', tol=0.0001,\n",
       "          verbose=0, warm_start=False)"
      ]
     },
     "execution_count": 5,
     "metadata": {},
     "output_type": "execute_result"
    }
   ],
   "source": [
    "clf = LogisticRegression()\n",
    "clf.fit(x_train, y_train.values.ravel())"
   ]
  },
  {
   "cell_type": "markdown",
   "metadata": {},
   "source": [
    "Accuracy computation"
   ]
  },
  {
   "cell_type": "code",
   "execution_count": 6,
   "metadata": {},
   "outputs": [
    {
     "name": "stdout",
     "output_type": "stream",
     "text": [
      "0.7762674679257882\n"
     ]
    }
   ],
   "source": [
    "accuracy = clf.score(x_test, y_test)\n",
    "print(accuracy)"
   ]
  },
  {
   "cell_type": "markdown",
   "metadata": {},
   "source": [
    "The above uses logistic regression to predict the probability of credit card defaulting, and achieves an accuracy of 77.62%\n",
    "Tweaking the parameters of the Logitsic regression model may result in higher accuracy.\n",
    "Other models such as decision trees(boosted) should be considered to achieve higher accuracy in the classification\n",
    "This notebook will be further developed to explore the above options"
   ]
  }
 ],
 "metadata": {
  "kernelspec": {
   "display_name": "Python 3",
   "language": "python",
   "name": "python3"
  },
  "language_info": {
   "codemirror_mode": {
    "name": "ipython",
    "version": 3
   },
   "file_extension": ".py",
   "mimetype": "text/x-python",
   "name": "python",
   "nbconvert_exporter": "python",
   "pygments_lexer": "ipython3",
   "version": "3.6.3"
  }
 },
 "nbformat": 4,
 "nbformat_minor": 4
}
